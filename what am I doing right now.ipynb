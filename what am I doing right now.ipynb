{
 "metadata": {
  "name": "",
  "signature": "sha256:d8c6ed0e87390a5a8cb5917362aae6d12ea2f75525462edc5840cf3e7f363bb7"
 },
 "nbformat": 3,
 "nbformat_minor": 0,
 "worksheets": [
  {
   "cells": [
    {
     "cell_type": "code",
     "collapsed": false,
     "input": [
      "#These are the packages that I used:\n",
      "import pandas as pd\n",
      "import numpy as np\n",
      "from sklearn.lda import LDA\n",
      "import sklearn as sk\n",
      "from datetime import datetime\n",
      "from collections import Counter"
     ],
     "language": "python",
     "metadata": {},
     "outputs": [
      {
       "output_type": "stream",
       "stream": "stderr",
       "text": [
        "C:\\Users\\Bill\\AppData\\Local\\Continuum\\Anaconda\\lib\\site-packages\\sklearn\\lda.py:4: DeprecationWarning: lda.LDA has been moved to discriminant_analysis.LinearDiscriminantAnalysis in 0.17 and will be removed in 0.19\n",
        "  \"in 0.17 and will be removed in 0.19\", DeprecationWarning)\n"
       ]
      }
     ],
     "prompt_number": 1
    },
    {
     "cell_type": "code",
     "collapsed": false,
     "input": [
      "from sklearn.discriminant_analysis.LinearDiscriminantAnalysis import LDA"
     ],
     "language": "python",
     "metadata": {},
     "outputs": [
      {
       "ename": "ImportError",
       "evalue": "No module named LinearDiscriminantAnalysis",
       "output_type": "pyerr",
       "traceback": [
        "\u001b[1;31m---------------------------------------------------------------------------\u001b[0m\n\u001b[1;31mImportError\u001b[0m                               Traceback (most recent call last)",
        "\u001b[1;32m<ipython-input-2-52dcb5c92550>\u001b[0m in \u001b[0;36m<module>\u001b[1;34m()\u001b[0m\n\u001b[1;32m----> 1\u001b[1;33m \u001b[1;32mfrom\u001b[0m \u001b[0msklearn\u001b[0m\u001b[1;33m.\u001b[0m\u001b[0mdiscriminant_analysis\u001b[0m\u001b[1;33m.\u001b[0m\u001b[0mLinearDiscriminantAnalysis\u001b[0m \u001b[1;32mimport\u001b[0m \u001b[0mLDA\u001b[0m\u001b[1;33m\u001b[0m\u001b[0m\n\u001b[0m",
        "\u001b[1;31mImportError\u001b[0m: No module named LinearDiscriminantAnalysis"
       ]
      }
     ],
     "prompt_number": 2
    },
    {
     "cell_type": "code",
     "collapsed": false,
     "input": [
      "#Step one getting the data:\n",
      "path = 'C:\\\\Users\\\\Bill\\\\Google Drive\\\\Finance\\\\{}'\n",
      "myfiles = [\"transactions2014.csv\",\n",
      "            \"transactions2015_1.csv\",\n",
      "            \"transactions2015_2.csv\"]\n",
      "frames = [pd.read_csv(path.format(x)) for x in myfiles]\n",
      "df = pd.concat(frames)"
     ],
     "language": "python",
     "metadata": {},
     "outputs": [],
     "prompt_number": 3
    },
    {
     "cell_type": "code",
     "collapsed": false,
     "input": [
      "#Some quick cleaning:\n",
      "keep_cats = ['Arts&Crafts', 'Coffee', 'Eating at Home', 'Eating out', 'Education', 'Gaming', 'Grocery',\n",
      "       'Lunch', 'Moving', 'Music', 'Out for drinks', 'Out of town',\n",
      "       'Technology', 'Transportation', 'Uncategorized']\n",
      "df['filters'] = df['Category'].apply(lambda x: x in keep_cats)\n",
      "df = df[df['filters']]\n",
      "df = df.dropna().reset_index(drop=True)\n",
      "\n",
      "#pesky date_time issues:\n",
      "#fix that pesky date issue that I didn't fix before:\n",
      "df['isDate'] = df.Date.apply(lambda x: '/' in str(x))\n",
      "df.loc[df['isDate']==False,'Date'] = df.loc[df['isDate']==False,'Date of pull']\n",
      "df.head()\n",
      "\n",
      "def fixYear(x):\n",
      "    try:\n",
      "        y = datetime.strptime(x, '%m/%d/%Y')\n",
      "    except:\n",
      "        y = datetime.strptime(x, '%m/%d/%y')\n",
      "    return y\n",
      "df['dataObje'] = df['Date'].apply(lambda X: fixYear(X))"
     ],
     "language": "python",
     "metadata": {},
     "outputs": [],
     "prompt_number": 4
    },
    {
     "cell_type": "code",
     "collapsed": false,
     "input": [
      "#adding a day of the week:\n",
      "df['dayOfWeek'] = df['dataObje'].apply(lambda x: x.strftime('%A'))"
     ],
     "language": "python",
     "metadata": {},
     "outputs": [],
     "prompt_number": 5
    },
    {
     "cell_type": "code",
     "collapsed": false,
     "input": [
      "#then I'm using the \"distance from saturday as a proxy for catagorical value\"\n",
      "def dist_from_sat(x):\n",
      "    myvalues = {'Friday' :1,\n",
      "                'Monday':2,\n",
      "                'Saturday':0, \n",
      "                'Sunday':1, \n",
      "                'Thursday':2,\n",
      "                'Tuesday':3,\n",
      "                'Wednesday':3}\n",
      "    return myvalues[x]\n",
      "df['distFromSat'] = df['dayOfWeek'].apply(lambda x: dist_from_sat(x))"
     ],
     "language": "python",
     "metadata": {},
     "outputs": [],
     "prompt_number": 6
    },
    {
     "cell_type": "markdown",
     "metadata": {},
     "source": [
      "The concept in this model is the at the category can be determined from:\n",
      "<br>-the distance from Saturday\n",
      "<br>-the hour of day\n",
      "<br>-the amount"
     ]
    },
    {
     "cell_type": "code",
     "collapsed": false,
     "input": [
      "#transform my data for the model:\n",
      "X = df.loc[:,['distFromSat','Hour','Amount']].values\n",
      "y = df.loc[:,'Category'].values"
     ],
     "language": "python",
     "metadata": {},
     "outputs": [],
     "prompt_number": 27
    },
    {
     "cell_type": "code",
     "collapsed": false,
     "input": [
      "#now I can run my model:\n",
      "X_train, X_test, y_train, y_test = sk.cross_validation.train_test_split(X, y, test_size=0.3, random_state=42)\n",
      "\n",
      "clf = LDA()\n",
      "clf.fit(X_train, y_train)"
     ],
     "language": "python",
     "metadata": {},
     "outputs": [
      {
       "metadata": {},
       "output_type": "pyout",
       "prompt_number": 28,
       "text": [
        "LinearDiscriminantAnalysis(n_components=None, priors=None, shrinkage=None,\n",
        "              solver='svd', store_covariance=False, tol=0.0001)"
       ]
      }
     ],
     "prompt_number": 28
    },
    {
     "cell_type": "code",
     "collapsed": false,
     "input": [
      "#now see if my model has any validity:\n",
      "Y_results = clf.predict(X_test)\n",
      "#I want to see how the model is able to gues against data that the model has not yet seen:\n",
      "correct_guesses = Y_results[Y_results == y_test]\n",
      "correct_guesses_score = len(Y_results[Y_results == y_test])/float(len(Y_results))\n",
      "randomly_picking = 1./len(keep_cats)"
     ],
     "language": "python",
     "metadata": {},
     "outputs": [],
     "prompt_number": 29
    },
    {
     "cell_type": "code",
     "collapsed": false,
     "input": [
      "correct_guesses_score"
     ],
     "language": "python",
     "metadata": {},
     "outputs": [
      {
       "metadata": {},
       "output_type": "pyout",
       "prompt_number": 30,
       "text": [
        "0.26489028213166144"
       ]
      }
     ],
     "prompt_number": 30
    },
    {
     "cell_type": "code",
     "collapsed": false,
     "input": [
      "randomly_picking"
     ],
     "language": "python",
     "metadata": {},
     "outputs": [
      {
       "metadata": {},
       "output_type": "pyout",
       "prompt_number": 31,
       "text": [
        "0.06666666666666667"
       ]
      }
     ],
     "prompt_number": 31
    },
    {
     "cell_type": "markdown",
     "metadata": {},
     "source": [
      "The model is way better than picking randomly but that might not be the issue."
     ]
    },
    {
     "cell_type": "code",
     "collapsed": false,
     "input": [
      "Counter(y)['Out for drinks']/float(len(y))"
     ],
     "language": "python",
     "metadata": {},
     "outputs": [
      {
       "metadata": {},
       "output_type": "pyout",
       "prompt_number": 32,
       "text": [
        "0.2650659133709981"
       ]
      }
     ],
     "prompt_number": 32
    },
    {
     "cell_type": "markdown",
     "metadata": {},
     "source": [
      "This is the problem: 'Out for drinks is about 25% of the reciepts.  Just to test: Does the model do better than just guessing 'Out for drinks' every time."
     ]
    },
    {
     "cell_type": "code",
     "collapsed": false,
     "input": [
      "drinks_guesses = guess_drinks[np.repeat('Out for drinks',len(y_test)) == y_test]\n",
      "drinks_guesses_score = len(drinks_guesses)/float(len(Y_results))\n",
      "drinks_guesses_score"
     ],
     "language": "python",
     "metadata": {},
     "outputs": [
      {
       "metadata": {},
       "output_type": "pyout",
       "prompt_number": 34,
       "text": [
        "0.24921630094043887"
       ]
      }
     ],
     "prompt_number": 34
    },
    {
     "cell_type": "code",
     "collapsed": false,
     "input": [
      "correct_guesses_score-float(drinks_guesses_score)"
     ],
     "language": "python",
     "metadata": {},
     "outputs": [
      {
       "metadata": {},
       "output_type": "pyout",
       "prompt_number": 38,
       "text": [
        "0.01567398119122257"
       ]
      }
     ],
     "prompt_number": 38
    },
    {
     "cell_type": "code",
     "collapsed": false,
     "input": [
      "correct_guesses_score-float(randomly_picking)"
     ],
     "language": "python",
     "metadata": {},
     "outputs": [
      {
       "metadata": {},
       "output_type": "pyout",
       "prompt_number": 39,
       "text": [
        "0.19822361546499478"
       ]
      }
     ],
     "prompt_number": 39
    },
    {
     "cell_type": "markdown",
     "metadata": {},
     "source": [
      "Results: My model is about 20% better than random at guessing the what I am doing right now. However it is only about 1.5% better than just assuming that I am \"Out for drinks\" at any given time."
     ]
    },
    {
     "cell_type": "code",
     "collapsed": false,
     "input": [],
     "language": "python",
     "metadata": {},
     "outputs": []
    }
   ],
   "metadata": {}
  }
 ]
}